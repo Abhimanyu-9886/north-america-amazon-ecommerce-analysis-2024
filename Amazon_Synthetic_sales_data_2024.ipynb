{
  "nbformat": 4,
  "nbformat_minor": 0,
  "metadata": {
    "colab": {
      "provenance": []
    },
    "kernelspec": {
      "name": "python3",
      "display_name": "Python 3"
    },
    "language_info": {
      "name": "python"
    }
  },
  "cells": [
    {
      "cell_type": "code",
      "source": [
        "# In this cell I am importing all the packaged I will work with to generate a synthetic Amazon e-commerce sales data for year 2024.\n",
        "import pandas as pd\n",
        "import numpy as np\n",
        "import random\n",
        "from datetime import datetime, timedelta\n"
      ],
      "metadata": {
        "id": "xM0SRG6qbQRh"
      },
      "execution_count": null,
      "outputs": []
    },
    {
      "cell_type": "code",
      "source": [
        "# setting seed for same output in case of running the code several times.\n",
        "random.seed(52)\n",
        "np.random.seed(52)"
      ],
      "metadata": {
        "id": "jEHzEsjPbf4N"
      },
      "execution_count": null,
      "outputs": []
    },
    {
      "cell_type": "code",
      "source": [
        "# I am taking random 10 categories and random price range for those categories for my data. This dictionary is consist of 10 different categories and price range for each.\n",
        "category_list_price_range = {\n",
        "    \"Electronics\": (100, 500),\n",
        "    \"Home & Kitchen\": (50, 300),\n",
        "    \"Clothing, Shoes & Jewelry\": (20, 100),\n",
        "    \"Beauty & Personal Care\": (15, 50),\n",
        "    \"Books\": (10, 30),\n",
        "    \"Health & Wellness\": (20, 150),\n",
        "    \"Tools & Home Improvement\": (40, 200),\n",
        "    \"Pet Supplies\": (10, 70),\n",
        "    \"Sports & Outdoors\": (60, 350),\n",
        "    \"Toys & Games\": (10, 60)\n",
        "}"
      ],
      "metadata": {
        "id": "Mm6UgjnLcJE-"
      },
      "execution_count": null,
      "outputs": []
    },
    {
      "cell_type": "code",
      "source": [
        "# In this cell I am creating a product catalog of 2500 items. Per category 250 different products will be generated.\n",
        "product_catalog = []\n",
        "product_counter = 1\n",
        "for category, price_range in category_list_price_range.items():\n",
        "  for _ in range(250):\n",
        "    product_id = f\"PRD{product_counter:06d}\"\n",
        "    product_price = round(random.uniform(*price_range),2)\n",
        "    product_catalog.append ((product_id, category, product_price))\n",
        "    product_counter +=1"
      ],
      "metadata": {
        "id": "cg6RAI6pdJHz"
      },
      "execution_count": null,
      "outputs": []
    },
    {
      "cell_type": "code",
      "source": [
        "# I am creating random date function to generate random dates in the year of 2024 from Jan 1st til December 31st\n",
        "def random_date_2024():\n",
        "  start_date = datetime(2024, 1, 1)\n",
        "  end_date = datetime(2024, 12, 31)\n",
        "  delta = end_date-start_date\n",
        "  return start_date+timedelta(days=random.randint(0,delta.days))"
      ],
      "metadata": {
        "id": "1IPaCCTifHMJ"
      },
      "execution_count": null,
      "outputs": []
    },
    {
      "cell_type": "code",
      "source": [
        "# in this fucntion I am assigining random return probability to each category per country.\n",
        "def returnprobs_country():\n",
        "  return {\n",
        "      \"USA\": {\"Electronics\": 0.22, \"Home & Kitchen\": 0.10, \"Clothing, Shoes & Jewelry\": 0.25,\n",
        "        \"Beauty & Personal Care\": 0.15, \"Books\": 0.05, \"Health & Wellness\": 0.12,\n",
        "        \"Tools & Home Improvement\": 0.10, \"Pet Supplies\": 0.10, \"Sports & Outdoors\": 0.14,\n",
        "        \"Toys & Games\": 0.12},\n",
        "\n",
        "      \"Canada\": { \"Electronics\": 0.20, \"Home & Kitchen\": 0.09, \"Clothing, Shoes & Jewelry\": 0.23,\n",
        "        \"Beauty & Personal Care\": 0.13, \"Books\": 0.04, \"Health & Wellness\": 0.10,\n",
        "        \"Tools & Home Improvement\": 0.09, \"Pet Supplies\": 0.09, \"Sports & Outdoors\": 0.12,\n",
        "        \"Toys & Games\": 0.10},\n",
        "\n",
        "      \"Mexico\": { \"Electronics\": 0.25, \"Home & Kitchen\": 0.12, \"Clothing, Shoes & Jewelry\": 0.28,\n",
        "        \"Beauty & Personal Care\": 0.17, \"Books\": 0.06, \"Health & Wellness\": 0.14,\n",
        "        \"Tools & Home Improvement\": 0.11, \"Pet Supplies\": 0.11, \"Sports & Outdoors\": 0.16,\n",
        "        \"Toys & Games\": 0.14}\n",
        "  }"
      ],
      "metadata": {
        "id": "BdwOezrafs7e"
      },
      "execution_count": null,
      "outputs": []
    },
    {
      "cell_type": "code",
      "source": [
        "# In this cell I am creating a distribution of units to lean more towards realistic data generation.\n",
        "unit_distribution = {\n",
        "    \"Electronics\": [1, 1, 2, 3],\n",
        "    \"Home & Kitchen\": [1, 2, 1, 1],\n",
        "    \"Clothing, Shoes & Jewelry\": [1, 1, 1, 2],\n",
        "    \"Beauty & Personal Care\": [1, 2, 2, 3],\n",
        "    \"Books\": [1, 2, 1, 1],\n",
        "    \"Health & Wellness\": [1,3,1, 2],\n",
        "    \"Tools & Home Improvement\": [1, 1, 2, 3],\n",
        "    \"Pet Supplies\": [1, 2, 3, 1],\n",
        "    \"Sports & Outdoors\": [1, 1, 2, 3],\n",
        "    \"Toys & Games\": [1, 2, 2, 3]\n",
        "\n",
        "  }"
      ],
      "metadata": {
        "id": "LmUTDHj0g-_E"
      },
      "execution_count": null,
      "outputs": []
    },
    {
      "cell_type": "code",
      "source": [
        "# in this cell I am writing to generate customer ratings.\n",
        "def customer_rating(category,country):\n",
        "  if country == \"USA\":\n",
        "    if category == \"Books\":\n",
        "      return round(random.uniform(3.7,4.9),1)\n",
        "    elif category == \"Electronics\":\n",
        "      return round(random.uniform(2.5, 4.5), 1)\n",
        "    elif category == \"Clothing, Shoes & Jewelry\":\n",
        "      return round(random.uniform(2.0, 4.2), 1)\n",
        "    else:\n",
        "      return round(random.uniform(3.0, 5.0), 1)\n",
        "  elif country == \"Canada\":\n",
        "    if category == \"Books\":\n",
        "      return round(random.uniform(4.0, 5.0), 1)\n",
        "    elif category == \"Electronics\":\n",
        "      return round(random.uniform(2.8, 4.8), 1)\n",
        "    elif category == \"Clothing, Shoes & Jewelry\":\n",
        "      return round(random.uniform(2.2, 4.5), 1)\n",
        "    else:\n",
        "      return round(random.uniform(3.2, 5.0), 1)\n",
        "  elif country == \"Mexico\":\n",
        "    if category == \"Books\":\n",
        "      return round(random.uniform(3.5, 4.8), 1)\n",
        "    elif category == \"Electronics\":\n",
        "      return round(random.uniform(2.0, 4.0), 1)\n",
        "    elif category == \"Clothing, Shoes & Jewelry\":\n",
        "      return round(random.uniform(1.8, 4.0), 1)\n",
        "    else:\n",
        "      return round(random.uniform(2.8, 4.8), 1)"
      ],
      "metadata": {
        "id": "WHFxlzTaho4b"
      },
      "execution_count": null,
      "outputs": []
    },
    {
      "cell_type": "code",
      "source": [
        "# in this cell I am defining countries, countries weight in sales and seller types.\n",
        "countries = [\"USA\", \"Canada\", \"Mexico\"]\n",
        "countries_distribution = [0.50,0.28,0.22]\n",
        "seller_types = [\"Amazon FBA\", \"Vendor\"]"
      ],
      "metadata": {
        "id": "Le6WTE1Ji-3S"
      },
      "execution_count": null,
      "outputs": []
    },
    {
      "cell_type": "code",
      "source": [
        "# in this cell I am writing to generate data witn 1 million raws, based on our pre-defined functions and dictionary\n",
        "\n",
        "records = []\n",
        "n = 1000000\n",
        "\n",
        "for i in range (1, n+1):\n",
        "  order_id = f\"ORD{i:08d}\"\n",
        "  product_id, category, price = random.choice(product_catalog)\n",
        "  country = np.random.choice(countries, p = countries_distribution)\n",
        "  order_date = random_date_2024().date()\n",
        "  base_units = random.choice(unit_distribution[category])\n",
        "  units_sold = max(1, int(base_units))\n",
        "  revenue = round(units_sold*price,2)\n",
        "  return_probabilities = returnprobs_country()\n",
        "  return_probability = return_probabilities[country][category]\n",
        "  return_units = sum([np.random.binomial(1, return_probability) for _ in range(units_sold)])\n",
        "  rating = customer_rating(category, country)\n",
        "  seller_type = random.choice(seller_types)\n",
        "\n",
        "  records.append([order_id, product_id,category, order_date, units_sold, price, revenue, return_units, rating, country, seller_type])"
      ],
      "metadata": {
        "id": "3WD9YggIjyBM"
      },
      "execution_count": null,
      "outputs": []
    },
    {
      "cell_type": "code",
      "source": [
        "df = pd.DataFrame(records, columns = [\"order_id\", \"product_id\", \"category\", \"order_date\", \"units_sold\", \"price\", \"revenue\", \"return_units\", \"rating\", \"country\", \"seller_type\"])\n",
        "\n",
        "df.to_csv(\"amazon_sales_data.csv\", index = False)"
      ],
      "metadata": {
        "id": "qFxSJ8mIBHmr"
      },
      "execution_count": null,
      "outputs": []
    }
  ]
}